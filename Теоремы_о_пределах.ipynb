{
  "nbformat": 4,
  "nbformat_minor": 0,
  "metadata": {
    "kernelspec": {
      "display_name": "Python 3",
      "language": "python",
      "name": "python3"
    },
    "language_info": {
      "codemirror_mode": {
        "name": "ipython",
        "version": 3
      },
      "file_extension": ".py",
      "mimetype": "text/x-python",
      "name": "python",
      "nbconvert_exporter": "python",
      "pygments_lexer": "ipython3",
      "version": "3.6.0"
    },
    "colab": {
      "name": "Копия 2.3.ipynb",
      "provenance": [],
      "collapsed_sections": []
    }
  },
  "cells": [
    {
      "cell_type": "code",
      "metadata": {
        "colab": {
          "base_uri": "https://localhost:8080/"
        },
        "id": "YAJyrybSUjAB",
        "outputId": "92158bf9-ca29-4e04-e190-60b15638201a"
      },
      "source": [
        "%matplotlib inline\n",
        "import numpy as np\n",
        "import sympy\n",
        "from sympy import *\n",
        "\n",
        "print('Задание 4.')\n",
        "\n",
        "x = symbols('x')\n",
        "\n",
        "expr = (3 * x**3 - 2 * x**2)/(4 * x**2)\n",
        "limit_expr = sympy.limit(expr, x, 0)\n",
        "\n",
        "print('Уравнение: (3x^3-2x^2)/(4x^2)')\n",
        "print(\"Предел уравнения, стремящегося к 0:\", limit_expr)"
      ],
      "execution_count": 18,
      "outputs": [
        {
          "output_type": "stream",
          "text": [
            "Задание 4.\n",
            "Уравнение: (3x^3-2x^2)/(4x^2)\n",
            "Предел уравнения, стремящегося к 0 : -1/2\n"
          ],
          "name": "stdout"
        }
      ]
    },
    {
      "cell_type": "code",
      "metadata": {
        "colab": {
          "base_uri": "https://localhost:8080/"
        },
        "id": "e3178E00Emyg",
        "outputId": "6fff3207-038d-45c4-8e71-12e196cd1ac6"
      },
      "source": [
        "x = symbols('x')\n",
        "\n",
        "expr = (((1 + x)**(1/2)) - 1)/(((1 + x)**(1/3)) - 1)\n",
        "limit_expr = sympy.limit(expr, x, 0)\n",
        "\n",
        "print('Уравнение: (sqrt(1+x)-1)/(((1+x)^(1/3))-1)')\n",
        "print(\"Предел уравнения, стремящегося к 0: {:.1f}\".format(limit_expr))"
      ],
      "execution_count": 22,
      "outputs": [
        {
          "output_type": "stream",
          "text": [
            "Уравнение: (sqrt(1+x)-1)/(((1+x)^(1/3))-1)\n",
            "Предел уравнения, стремящегося к 0 : 1.5\n"
          ],
          "name": "stdout"
        }
      ]
    },
    {
      "cell_type": "code",
      "metadata": {
        "id": "sLbbUK7dJtC9",
        "colab": {
          "base_uri": "https://localhost:8080/"
        },
        "outputId": "4a05f4f9-b557-4725-ca95-fa0a49d645a3"
      },
      "source": [
        "x = symbols('x')\n",
        "\n",
        "expr = ((x + 3)/x)**(4 * x + 1)\n",
        "limit_expr = sympy.limit(expr, x, oo)\n",
        "\n",
        "print('Уравнение: ((x+3)/x)^(4x+1)')\n",
        "print(\"Предел уравнения, стремящегося к 0:\", limit_expr)"
      ],
      "execution_count": 24,
      "outputs": [
        {
          "output_type": "stream",
          "text": [
            "Уравнение: ((x+3)/x)^(4x+1)\n",
            "Предел уравнения, стремящегося к 0 : exp(12)\n"
          ],
          "name": "stdout"
        }
      ]
    },
    {
      "cell_type": "code",
      "metadata": {
        "colab": {
          "base_uri": "https://localhost:8080/"
        },
        "id": "FN73HFWLHyPS",
        "outputId": "a6899edd-86e7-43c7-f18a-a21a58a18241"
      },
      "source": [
        "x = symbols('x')\n",
        "\n",
        "expr = (sin(2 * x))/(4 * x)\n",
        "limit_expr = sympy.limit(expr, x, 0)\n",
        "\n",
        "print('Уравнение: sin2x/4x')\n",
        "print(\"Предел уравнения, стремящегося к 0:\", limit_expr)"
      ],
      "execution_count": 26,
      "outputs": [
        {
          "output_type": "stream",
          "text": [
            "Уравнение: sin2x/4x\n",
            "Предел уравнения, стремящегося к 0 : 1/2\n"
          ],
          "name": "stdout"
        }
      ]
    },
    {
      "cell_type": "code",
      "metadata": {
        "colab": {
          "base_uri": "https://localhost:8080/"
        },
        "id": "iJos-9JMIOoR",
        "outputId": "4d5f0f7b-0651-44e5-98ed-cd917293645e"
      },
      "source": [
        "x = symbols('x')\n",
        "\n",
        "expr = x/sin(x)\n",
        "limit_expr = sympy.limit(expr, x, 0)\n",
        "\n",
        "print('Уравнение: x/sinx')\n",
        "print(\"Предел уравнения, стремящегося к 0:\", limit_expr)"
      ],
      "execution_count": 27,
      "outputs": [
        {
          "output_type": "stream",
          "text": [
            "Уравнение: x/sinx\n",
            "Предел уравнения, стремящегося к 0 : 1\n"
          ],
          "name": "stdout"
        }
      ]
    },
    {
      "cell_type": "code",
      "metadata": {
        "colab": {
          "base_uri": "https://localhost:8080/"
        },
        "id": "rNf5Mq62Rd62",
        "outputId": "c0aabc34-3d5c-43a8-8b74-d8cc35e90831"
      },
      "source": [
        "x = symbols('x')\n",
        "\n",
        "expr = ((4 * x + 3)/(4 * x - 3))**(6 * x)\n",
        "limit_expr = sympy.limit(expr, x, oo)\n",
        "\n",
        "print('Уравнение: ((4x+3)/(4x-3))^6x')\n",
        "print(\"Предел уравнения, стремящегося к бесконечности:\", limit_expr)"
      ],
      "execution_count": 41,
      "outputs": [
        {
          "output_type": "stream",
          "text": [
            "Уравнение: ((4x+3)/(4x-3))^6x\n",
            "Предел уравнения, стремящегося к бесконечности: exp(9)\n"
          ],
          "name": "stdout"
        }
      ]
    }
  ]
}