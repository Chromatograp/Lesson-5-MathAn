{
  "nbformat": 4,
  "nbformat_minor": 0,
  "metadata": {
    "kernelspec": {
      "display_name": "Python 3",
      "language": "python",
      "name": "python3"
    },
    "language_info": {
      "codemirror_mode": {
        "name": "ipython",
        "version": 3
      },
      "file_extension": ".py",
      "mimetype": "text/x-python",
      "name": "python",
      "nbconvert_exporter": "python",
      "pygments_lexer": "ipython3",
      "version": "3.6.0"
    },
    "colab": {
      "name": "Копия 2.3.ipynb",
      "provenance": [],
      "collapsed_sections": []
    }
  },
  "cells": [
    {
      "cell_type": "code",
      "metadata": {
        "colab": {
          "base_uri": "https://localhost:8080/",
          "height": 300
        },
        "id": "YAJyrybSUjAB",
        "outputId": "9f83492f-3682-41d2-cbfb-9369b96644db"
      },
      "source": [
        "%matplotlib inline\n",
        "import numpy as np\n",
        "import matplotlib.pyplot as plt\n",
        "from scipy.signal import argrelextrema\n",
        "\n",
        "print('Задание 3.')\n",
        "\n",
        "x = np.linspace(0, 10, 200)\n",
        "y = x**3 - x**2\n",
        "\n",
        "n = argrelextrema(y, np.greater)\n",
        "\n",
        "s = np.sign(y)\n",
        "zeroes = []\n",
        "for i in range(len(y)):\n",
        "    if s[i-1] + s[i] == 0:\n",
        "        zeroes.append(i)\n",
        "\n",
        "plt.xlim(-1.5, 1.5)\n",
        "plt.ylim(-0.5, 0.5)\n",
        "plt.plot(x, y)\n",
        "plt.plot(-x, -y)\n",
        "plt.plot([y[i] for i in zeroes],'ro')\n",
        "plt.grid()\n",
        "plt.show"
      ],
      "execution_count": 8,
      "outputs": [
        {
          "output_type": "stream",
          "text": [
            "Задание 3.\n"
          ],
          "name": "stdout"
        },
        {
          "output_type": "execute_result",
          "data": {
            "text/plain": [
              "<function matplotlib.pyplot.show>"
            ]
          },
          "metadata": {
            "tags": []
          },
          "execution_count": 8
        },
        {
          "output_type": "display_data",
          "data": {
            "image/png": "[encoded data removed]",
            "text/plain": [
              "<Figure size 432x288 with 1 Axes>"
            ]
          },
          "metadata": {
            "tags": [],
            "needs_background": "light"
          }
        }
      ]
    },
    {
      "cell_type": "code",
      "metadata": {
        "id": "sLbbUK7dJtC9"
      },
      "source": [
        ""
      ],
      "execution_count": null,
      "outputs": []
    }
  ]
}